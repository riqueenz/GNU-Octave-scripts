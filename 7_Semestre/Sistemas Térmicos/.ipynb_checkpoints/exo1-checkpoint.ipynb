{
 "cells": [
  {
   "cell_type": "raw",
   "id": "d0b94a0e",
   "metadata": {},
   "source": [
    "1. Uma torre de resfriamento úmida deve resfriar 40 kg/s de água de 40°C a 30°C. O ar atmosférico entra na torre a 1 atm com temperaturas de bulbo seco e úmido de 22°C e 16°C respectivamente, saindo a 32°C com umidade relativa de 95%. Usando o diagrama psicrométrico, determine:\n",
    "(a) a vazão volumétrica do ar para a torre de resfriamento\n",
    "(b) a vazão mássica da água de reposição necessária considerando as perdas devido a evaporação da água.\n",
    "\n",
    "Respostas: (a) 23,9 m³/s; (b) 0,568 kg/s."
   ]
  },
  {
   "cell_type": "code",
   "execution_count": 30,
   "id": "cbcdd05f",
   "metadata": {},
   "outputs": [
    {
     "name": "stdout",
     "output_type": "stream",
     "text": [
      "mpa = 28.581589872309582 kg/s\n",
      "a) Vp1 = 24.237188211718525 m3/s\n",
      "b) mpreposicao = 0.5716317974461917 kg/s\n"
     ]
    }
   ],
   "source": [
    "# Declaração de variáveis do SymPy\n",
    "#from sympy import *\n",
    "#mpa, mp3 = symbols('mpa mp3')\n",
    "\n",
    "# Inicio de resolução\n",
    "\n",
    "mp3 = 40 # kg/s - vazão másica da entrada de água\n",
    "\n",
    "# T1 = 22°C temperatura de bulbo seco entrada do ar\n",
    "# temperatura de bulbo úmido entrada = 16°C\n",
    "# T2 = 32°C - temperatura de saída do ar\n",
    "# 95% de úmidade relativa do ar que saí\n",
    "# T3 = 40°C - temperatura de entrada da água\n",
    "# T4 = 30°C - temperatura de saída da água\n",
    "\n",
    "# Vp1 = ?\n",
    "# mpreposicao = ?\n",
    "\n",
    "# Usando a carta psicometrica\n",
    "h1 = 45 # kJ/kg de ar seco\n",
    "omega1 = 9 # g de água/kg de ar seco\n",
    "ni1 = 0.848 # m3/kg de ar seco\n",
    "h2 = 106 # kJ/kg de ar seco\n",
    "omega2 = 29 # g de água/kg de ar seco\n",
    "ni2 = 0.905 # m3/kg de ar seco\n",
    "\n",
    "omega1 = omega1/1000 # kg de água/kg de ar seco\n",
    "omega2 = omega2/1000 # kg de água/kg de ar seco\n",
    "\n",
    "# Usando a tabela A-4\n",
    "h3 = 167.53 # kJ/kg\n",
    "h4 = 125.74 # kJ/kg\n",
    "\n",
    "mpa = (mp3*(h3-h4))/((h2-h1)-(omega2-omega1)*h4)\n",
    "print(\"mpa = \" + str(mpa) + \" kg/s\")\n",
    "\n",
    "Vp1 = mpa * ni1\n",
    "print(\"a) Vp1 = \" + str(Vp1) + \" m3/s\")\n",
    "\n",
    "mpreposicao = mpa*(omega2-omega1)\n",
    "print(\"b) mpreposicao = \" + str(mpreposicao) + \" kg/s\")"
   ]
  },
  {
   "cell_type": "raw",
   "id": "3f240981",
   "metadata": {},
   "source": [
    "2. Água a 32°C deve ser resfriada em uma torre de resfriamento, na qual entra a uma taxa de 4 kg/s. Ar úmido entra nesta torre a 1 atm , 15 °C e 20% de umidade relativa com um fluxo de ar seco de 4,2 kg/s, saindo a 20°C e 0,014 kg de água / kg de ar seco.\n",
    "Determine a umidade relativa na qual o ar sai da torre e a temperatura da água na saída.\n",
    "\n",
    "Respostas: (a) 94% e (b) 23,4°C."
   ]
  }
 ],
 "metadata": {
  "kernelspec": {
   "display_name": "Python 3 (ipykernel)",
   "language": "python",
   "name": "python3"
  },
  "language_info": {
   "codemirror_mode": {
    "name": "ipython",
    "version": 3
   },
   "file_extension": ".py",
   "mimetype": "text/x-python",
   "name": "python",
   "nbconvert_exporter": "python",
   "pygments_lexer": "ipython3",
   "version": "3.10.6"
  }
 },
 "nbformat": 4,
 "nbformat_minor": 5
}
