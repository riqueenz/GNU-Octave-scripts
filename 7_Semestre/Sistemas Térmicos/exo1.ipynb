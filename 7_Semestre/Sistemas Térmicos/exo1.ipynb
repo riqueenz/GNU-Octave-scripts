{
 "cells": [
  {
   "cell_type": "raw",
   "id": "17f84f9b",
   "metadata": {},
   "source": [
    "Iniciar sympy e declarar variáveis simbólicas"
   ]
  },
  {
   "cell_type": "code",
   "execution_count": 79,
   "id": "64175fc3",
   "metadata": {},
   "outputs": [],
   "source": [
    "from sympy import *\n",
    "mpa, mp3, h1, h2, h3, h4, omega1, omega2, h2menosh1, omega2menosomega1, ni1, ni2 = symbols('mpa mp3 h1 h2 h3 h4 omega1 omega2 h2menosh1 omega2menosomega1 ni1 ni2')"
   ]
  },
  {
   "cell_type": "raw",
   "id": "5ec6ea79",
   "metadata": {},
   "source": [
    "Resolução do exercício"
   ]
  },
  {
   "cell_type": "code",
   "execution_count": 69,
   "id": "cbcdd05f",
   "metadata": {},
   "outputs": [],
   "source": [
    "mp3 = 40 # kg/s - vazão másica da entrada de água\n",
    "\n",
    "# T1 = 22°C temperatura de bulbo seco entrada do ar\n",
    "# temperatura de bulbo úmido entrada = 16°C\n",
    "# T2 = 32°C - temperatura de saída do ar\n",
    "# 95% de úmidade relativa do ar que saí\n",
    "# T3 = 40°C - temperatura de entrada da água\n",
    "# T4 = 30°C - temperatura de saída da água\n",
    "\n",
    "# mp1 = ?\n",
    "# mpreposicao = ?\n",
    "\n",
    "# Usando a carta psicometrica\n",
    "h1 = 45 # kJ/kg de ar seco\n",
    "omega1 = 9 # g/kg de ar seco\n",
    "ni1 = 0.848 # m3/kg de ar seco\n",
    "h2 = 106 # kJ/kg de ar seco\n",
    "omega2 = 29 # g/kg de ar seco\n",
    "ni2 = 0.905 # m3/kg de ar seco\n",
    "\n",
    "# Usando a tabela A-4\n",
    "h3 = 167.53 # kJ/kg\n",
    "h4 = 125.74 # kJ/kg"
   ]
  }
 ],
 "metadata": {
  "kernelspec": {
   "display_name": "Python 3 (ipykernel)",
   "language": "python",
   "name": "python3"
  },
  "language_info": {
   "codemirror_mode": {
    "name": "ipython",
    "version": 3
   },
   "file_extension": ".py",
   "mimetype": "text/x-python",
   "name": "python",
   "nbconvert_exporter": "python",
   "pygments_lexer": "ipython3",
   "version": "3.10.6"
  }
 },
 "nbformat": 4,
 "nbformat_minor": 5
}
